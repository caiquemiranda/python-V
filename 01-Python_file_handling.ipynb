{
 "cells": [
  {
   "cell_type": "code",
   "execution_count": 1,
   "metadata": {},
   "outputs": [
    {
     "name": "stdout",
     "output_type": "stream",
     "text": [
      "Versão de Python Neste Jupyter Notebook: 3.10.5\n"
     ]
    }
   ],
   "source": [
    "# Versão da Linguagem Python\n",
    "from platform import python_version\n",
    "print('Versão de Python Neste Jupyter Notebook:', python_version())\n",
    "\n",
    "# usaremos o filtro 'warning' para deixar mais limpo.\n",
    "import warnings\n",
    "warnings.filterwarnings('ignore')"
   ]
  },
  {
   "attachments": {},
   "cell_type": "markdown",
   "metadata": {},
   "source": [
    "## Opening and Closing Files in Python"
   ]
  },
  {
   "attachments": {},
   "cell_type": "markdown",
   "metadata": {},
   "source": [
    "### `open()` Function"
   ]
  },
  {
   "cell_type": "code",
   "execution_count": 2,
   "metadata": {},
   "outputs": [],
   "source": [
    "# Syntax:\n",
    "# open(filename, mode)"
   ]
  },
  {
   "cell_type": "code",
   "execution_count": 4,
   "metadata": {},
   "outputs": [],
   "source": [
    "# When the file is in the same folder where the python script is present. \n",
    "# Also access mode is 'r' whichis read mode.\n",
    "\n",
    "file = open('data/test.txt', mode = 'r')"
   ]
  },
  {
   "cell_type": "code",
   "execution_count": 5,
   "metadata": {},
   "outputs": [],
   "source": [
    "# When the file is not in the same folder where the python script is present.\n",
    "# In this case whole path of file should be written.\n",
    "\n",
    "file = open('data/test.txt', mode = 'r')"
   ]
  },
  {
   "attachments": {},
   "cell_type": "markdown",
   "metadata": {},
   "source": [
    "### `close()` function"
   ]
  },
  {
   "cell_type": "code",
   "execution_count": 6,
   "metadata": {},
   "outputs": [],
   "source": [
    "# file.**close()**"
   ]
  },
  {
   "cell_type": "code",
   "execution_count": 8,
   "metadata": {},
   "outputs": [],
   "source": [
    "# Example with with statement:\n",
    "\n",
    "with open(\"data/test.txt\", mode = 'r') as f:\n",
    "    pass\n",
    "# perform file operations"
   ]
  },
  {
   "cell_type": "code",
   "execution_count": 9,
   "metadata": {},
   "outputs": [],
   "source": [
    "try:\n",
    "    file = open('data/test.txt',mode='r')\n",
    "    # Perform file handling operations\n",
    "\n",
    "finally:\n",
    "    file.close()"
   ]
  },
  {
   "cell_type": "code",
   "execution_count": 10,
   "metadata": {},
   "outputs": [
    {
     "name": "stdout",
     "output_type": "stream",
     "text": [
      "[]\n"
     ]
    }
   ],
   "source": [
    "# Opening file in read mode and printing the contents of the file.\n",
    "\n",
    "with open(\"data/test.txt\", mode = 'r') as f:\n",
    "    data = f.readlines() #This reads all the lines from the file in a list.\n",
    "    print(data) #This will print content of file that is Hello World!\n",
    "\n",
    "# Opening a file in write mode."
   ]
  },
  {
   "cell_type": "code",
   "execution_count": 11,
   "metadata": {},
   "outputs": [
    {
     "name": "stdout",
     "output_type": "stream",
     "text": [
      "['Data after write operation']\n",
      "['Data after write operation Appending new data to the file']\n"
     ]
    }
   ],
   "source": [
    "with open(\"data/test.txt\", mode='w') as f:\n",
    "    f.write(\"Data after write operation\")\n",
    "\n",
    "# Opening file in read mode to check the contents.\n",
    "with open(\"data/test.txt\", mode='r') as f:\n",
    "    data = f.readlines() # this reads all the lines from the file in a list.\n",
    "    print(data) #this will print the overwritten content of file that is \"Data after write operation\"\n",
    "\n",
    "# Opening a file in append mode and appending data to the file.\n",
    "with open(\"data/test.txt\", \"a\") as f:\n",
    "    f.write(\" Appending new data to the file\")\n",
    "\n",
    "# Opening file in read mode to check the contents.\n",
    "with open(\"data/test.txt\", mode='r') as f:\n",
    "    data = f.readlines() #This reads all the lines from the file in a list.\n",
    "    print(data) #this will print the existing content of file plus the appended content"
   ]
  },
  {
   "attachments": {},
   "cell_type": "markdown",
   "metadata": {},
   "source": [
    "## How to Read a File in Python"
   ]
  },
  {
   "cell_type": "code",
   "execution_count": null,
   "metadata": {},
   "outputs": [],
   "source": [
    "file_object = open(r\"file_name\", \"access_mode\")"
   ]
  },
  {
   "cell_type": "code",
   "execution_count": 13,
   "metadata": {},
   "outputs": [],
   "source": [
    "# Usage:\n",
    "file1 = open(\"data/example.txt\", \"a+\")\n",
    "file2 = open(\"data/file.txt\", \"w+\")"
   ]
  },
  {
   "cell_type": "code",
   "execution_count": 14,
   "metadata": {},
   "outputs": [],
   "source": [
    "file1 = open(\"data/example.txt\", \"a+\", encoding = \"utf-8\")"
   ]
  },
  {
   "cell_type": "code",
   "execution_count": 15,
   "metadata": {},
   "outputs": [],
   "source": [
    "# Usage:\n",
    "file1 = open(\"data/example.txt\", \"w+\", encoding = \"utf-8\")\n",
    "\n",
    "# do something\n",
    "file1.close()"
   ]
  },
  {
   "cell_type": "code",
   "execution_count": 16,
   "metadata": {},
   "outputs": [],
   "source": [
    "try:\n",
    "    file_obj = open(\"data/example.txt\", \"r\", encoding = \"utf-8\")\n",
    "    # do something with the file\n",
    "\n",
    "finally:\n",
    "    file_obj.close()"
   ]
  },
  {
   "attachments": {},
   "cell_type": "markdown",
   "metadata": {},
   "source": [
    "### The `read()` method in python:"
   ]
  },
  {
   "cell_type": "code",
   "execution_count": 17,
   "metadata": {},
   "outputs": [
    {
     "name": "stdout",
     "output_type": "stream",
     "text": [
      "\n"
     ]
    }
   ],
   "source": [
    "file_obj = open(\"data/example.txt\", \"r\", encoding = \"utf-8\")\n",
    "\n",
    "print(file_obj.read())\n",
    "\n",
    "file_obj.close()"
   ]
  },
  {
   "cell_type": "code",
   "execution_count": 18,
   "metadata": {},
   "outputs": [
    {
     "name": "stdout",
     "output_type": "stream",
     "text": [
      "\n"
     ]
    }
   ],
   "source": [
    "file_obj = open(\"data/example.txt\", \"r\", encoding = \"utf-8\")\n",
    "\n",
    "print(file_obj.read(5))\n",
    "\n",
    "file_obj.close()"
   ]
  },
  {
   "cell_type": "code",
   "execution_count": null,
   "metadata": {},
   "outputs": [],
   "source": [
    "file_obj.tell() # will give you current cursor position\n",
    "file_obj.seek(n) # will seek the nth position"
   ]
  },
  {
   "attachments": {},
   "cell_type": "markdown",
   "metadata": {},
   "source": [
    "### The `readline()` method in python"
   ]
  },
  {
   "cell_type": "code",
   "execution_count": 20,
   "metadata": {},
   "outputs": [
    {
     "name": "stdout",
     "output_type": "stream",
     "text": [
      "\n"
     ]
    }
   ],
   "source": [
    "file_obj = open(\"data/example.txt\", \"r\", encoding = \"utf-8\")\n",
    "\n",
    "print(file_obj.readline())\n",
    "\n",
    "file_obj.close()"
   ]
  },
  {
   "attachments": {},
   "cell_type": "markdown",
   "metadata": {},
   "source": [
    "### The `readlines()` method in python"
   ]
  },
  {
   "cell_type": "code",
   "execution_count": 21,
   "metadata": {},
   "outputs": [
    {
     "name": "stdout",
     "output_type": "stream",
     "text": [
      "[]\n"
     ]
    }
   ],
   "source": [
    "file_obj = open(\"data/example.txt\", \"r\", encoding = \"utf-8\")\n",
    "\n",
    "print(file_obj.readlines())\n",
    "\n",
    "file_obj.close()"
   ]
  },
  {
   "cell_type": "code",
   "execution_count": 22,
   "metadata": {},
   "outputs": [],
   "source": [
    "file_obj = open(\"data/example.txt\", \"r\")\n",
    "\n",
    "for line in file_obj:\n",
    "    print(line)\n",
    "\n",
    "file_obj.close()"
   ]
  },
  {
   "attachments": {},
   "cell_type": "markdown",
   "metadata": {},
   "source": [
    "### Reading a Binary File in Python"
   ]
  },
  {
   "cell_type": "code",
   "execution_count": 24,
   "metadata": {},
   "outputs": [],
   "source": [
    "# Example:\n",
    "file_obj = open(\"data/binary.txt\", \"rb\")\n",
    "\n",
    "# some code7\n",
    "\n",
    "file_obj.close()\n",
    "# All the functions we discussed above are applicable on the binary files as well."
   ]
  },
  {
   "attachments": {},
   "cell_type": "markdown",
   "metadata": {},
   "source": [
    "### Reading Using the with `open()` Method in Python"
   ]
  },
  {
   "cell_type": "code",
   "execution_count": null,
   "metadata": {},
   "outputs": [],
   "source": [
    "# Syntax:\n",
    "\n",
    "with open(\"file_name\") as f:\n",
    "    data = f.read()\n",
    "\n",
    "# do something with this data"
   ]
  },
  {
   "attachments": {},
   "cell_type": "markdown",
   "metadata": {},
   "source": [
    "## How to Write a File in Python"
   ]
  },
  {
   "attachments": {},
   "cell_type": "markdown",
   "metadata": {},
   "source": [
    "### The write() function in Python"
   ]
  },
  {
   "cell_type": "code",
   "execution_count": 26,
   "metadata": {},
   "outputs": [],
   "source": [
    "file_obj = open(\"data/writing.txt\", \"w\")"
   ]
  },
  {
   "cell_type": "code",
   "execution_count": 27,
   "metadata": {},
   "outputs": [
    {
     "data": {
      "text/plain": [
       "40"
      ]
     },
     "execution_count": 27,
     "metadata": {},
     "output_type": "execute_result"
    }
   ],
   "source": [
    "file_obj.write(\"This is how you write to a file\")\n",
    "file_obj.write(\"Now this will be written to another line\")"
   ]
  },
  {
   "cell_type": "code",
   "execution_count": null,
   "metadata": {},
   "outputs": [],
   "source": [
    "print(file_obj.read())\n",
    "\n",
    "file_obj.close()"
   ]
  },
  {
   "cell_type": "code",
   "execution_count": 29,
   "metadata": {},
   "outputs": [],
   "source": [
    "file = open(\"data/writing.txt\", \"w\")"
   ]
  },
  {
   "cell_type": "code",
   "execution_count": null,
   "metadata": {},
   "outputs": [],
   "source": [
    "file.write(\"Where do you think this will be written in the file?\")\n",
    "file.write(\"Obviously, the initial contents will be overwritten with these two lines\")\n",
    "\n",
    "print(file.read())\n",
    "\n",
    "file.close()"
   ]
  },
  {
   "cell_type": "code",
   "execution_count": null,
   "metadata": {},
   "outputs": [],
   "source": [
    "file = open(\"data/writing.txt\", \"a\")\n",
    "file.write(\"This way, I will preserve the existing contents in the file\")\n",
    "\n",
    "print(file.read())\n",
    "\n",
    "file.close()"
   ]
  },
  {
   "attachments": {},
   "cell_type": "markdown",
   "metadata": {},
   "source": [
    "### The `writelines()` function in Python"
   ]
  },
  {
   "cell_type": "code",
   "execution_count": 32,
   "metadata": {},
   "outputs": [],
   "source": [
    "lines = [\"line1\", \n",
    "         \"line2\",\n",
    "         \"line3\"]\n",
    "\n",
    "file_obj.writelines(lines)"
   ]
  },
  {
   "cell_type": "code",
   "execution_count": 33,
   "metadata": {},
   "outputs": [],
   "source": [
    "# Example\n",
    "f = open(\"data/binfile.bin\", \"wb\")\n",
    "nums = [1, 2, 3, 4, 5]\n",
    "\n",
    "arr = bytearray(nums)\n",
    "\n",
    "f.write(arr)\n",
    "f.close()"
   ]
  },
  {
   "attachments": {},
   "cell_type": "markdown",
   "metadata": {},
   "source": [
    "## How to Delete File in Python"
   ]
  },
  {
   "attachments": {},
   "cell_type": "markdown",
   "metadata": {},
   "source": [
    "### Using the os module in python"
   ]
  },
  {
   "cell_type": "code",
   "execution_count": 34,
   "metadata": {},
   "outputs": [
    {
     "ename": "SyntaxError",
     "evalue": "invalid syntax (412368351.py, line 3)",
     "output_type": "error",
     "traceback": [
      "\u001b[1;36m  Input \u001b[1;32mIn [34]\u001b[1;36m\u001b[0m\n\u001b[1;33m    file_path = <file_path>\u001b[0m\n\u001b[1;37m                ^\u001b[0m\n\u001b[1;31mSyntaxError\u001b[0m\u001b[1;31m:\u001b[0m invalid syntax\n"
     ]
    }
   ],
   "source": [
    "import os\n",
    "\n",
    "file_path = <file_path>\n",
    "\n",
    "if os.path.isfile(file_path):\n",
    "    os.remove(file_path)\n",
    "    print(\"File has been deleted\")\n",
    "else:\n",
    "    print(\"File does not exist\")"
   ]
  },
  {
   "cell_type": "code",
   "execution_count": 37,
   "metadata": {},
   "outputs": [],
   "source": [
    "import os\n",
    "\n",
    "os.rmdir('code')"
   ]
  },
  {
   "attachments": {},
   "cell_type": "markdown",
   "metadata": {},
   "source": [
    "### Using the shutil module in python"
   ]
  },
  {
   "cell_type": "code",
   "execution_count": null,
   "metadata": {},
   "outputs": [],
   "source": [
    "import shutil\n",
    "\n",
    "shutil.rmtree('path')"
   ]
  },
  {
   "attachments": {},
   "cell_type": "markdown",
   "metadata": {},
   "source": [
    "### Using the Pathlib Module in Python"
   ]
  },
  {
   "cell_type": "code",
   "execution_count": null,
   "metadata": {},
   "outputs": [],
   "source": [
    "import pathlib\n",
    "\n",
    "p_object = Path(\".\")\n",
    "\n",
    "type(p_object)"
   ]
  },
  {
   "cell_type": "code",
   "execution_count": null,
   "metadata": {},
   "outputs": [],
   "source": [
    "zile = pathlib.Path(\"data/file.txt\")\n",
    "file.unlink()"
   ]
  },
  {
   "cell_type": "code",
   "execution_count": null,
   "metadata": {},
   "outputs": [],
   "source": [
    "directory = pathlib.Path(\"files/\")\n",
    "directory.rmdir()"
   ]
  },
  {
   "attachments": {},
   "cell_type": "markdown",
   "metadata": {},
   "source": [
    "## With Statement in Python"
   ]
  },
  {
   "cell_type": "code",
   "execution_count": 40,
   "metadata": {},
   "outputs": [],
   "source": [
    "with open('data/hello.txt', mode = 'w') as myFile:\n",
    "    myFile.write('I am inside with')"
   ]
  },
  {
   "cell_type": "code",
   "execution_count": 41,
   "metadata": {},
   "outputs": [
    {
     "name": "stdout",
     "output_type": "stream",
     "text": [
      "Entered the context\n",
      "Entered!\n",
      "Leaving the context\n"
     ]
    }
   ],
   "source": [
    "class MyContextManager:\n",
    "\n",
    "    def __enter__(self):\n",
    "        print(\"Entered the context\")\n",
    "        return \"Entered!\"\n",
    "    \n",
    "    def __exit__(self, *args, **kwargs):\n",
    "        print(\"Leaving the context\")\n",
    "\n",
    "with MyContextManager() as hello:\n",
    "    print(hello)"
   ]
  },
  {
   "attachments": {},
   "cell_type": "markdown",
   "metadata": {},
   "source": [
    "### Contextlib Library"
   ]
  },
  {
   "cell_type": "code",
   "execution_count": 42,
   "metadata": {},
   "outputs": [
    {
     "name": "stdout",
     "output_type": "stream",
     "text": [
      "Entering...\n",
      "Hello There\n",
      "Exiting...\n"
     ]
    }
   ],
   "source": [
    "from contextlib import contextmanager\n",
    "\n",
    "@contextmanager\n",
    "def myContextManager():\n",
    "    print(\"Entering...\")\n",
    "    yield \"Hello There\"\n",
    "    print(\"Exiting...\")\n",
    "\n",
    "with myContextManager() as cm:\n",
    "    print(cm)"
   ]
  },
  {
   "cell_type": "code",
   "execution_count": 43,
   "metadata": {},
   "outputs": [
    {
     "name": "stdout",
     "output_type": "stream",
     "text": [
      "Author: Caique Miranda\n",
      "\n",
      "Github username: caiquemiranda\n",
      "\n"
     ]
    }
   ],
   "source": [
    "%reload_ext watermark\n",
    "%watermark -a \"Caique Miranda\" -gu \"caiquemiranda\" -iv"
   ]
  },
  {
   "attachments": {},
   "cell_type": "markdown",
   "metadata": {},
   "source": [
    "### End."
   ]
  }
 ],
 "metadata": {
  "kernelspec": {
   "display_name": "Python 3",
   "language": "python",
   "name": "python3"
  },
  "language_info": {
   "codemirror_mode": {
    "name": "ipython",
    "version": 3
   },
   "file_extension": ".py",
   "mimetype": "text/x-python",
   "name": "python",
   "nbconvert_exporter": "python",
   "pygments_lexer": "ipython3",
   "version": "3.10.5"
  },
  "orig_nbformat": 4
 },
 "nbformat": 4,
 "nbformat_minor": 2
}
